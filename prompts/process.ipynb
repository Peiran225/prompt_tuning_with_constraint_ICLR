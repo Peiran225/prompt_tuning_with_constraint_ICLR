{
 "cells": [
  {
   "cell_type": "code",
   "execution_count": 35,
   "metadata": {},
   "outputs": [],
   "source": [
    "import os\n",
    "import json"
   ]
  },
  {
   "cell_type": "code",
   "execution_count": 40,
   "metadata": {},
   "outputs": [],
   "source": [
    "# evo_pth = '/root/projects/prompt_tuning_with_constraint_ICLR/EvoPrompt/outputs/cls/sst-5/alpaca/all/de/bd10_top10_para_topk_init/v1/turbo/seed5/step9_pop.txt'\n",
    "# evo_pth = '/root/projects/prompt_tuning_with_constraint_ICLR/EvoPrompt/outputs/cls/sst2/alpaca/all/de/bd10_top10_para_topk_init/v1/turbo/seed10/dev_result.txt'\n",
    "evo_pth = '/root/projects/prompt_tuning_with_constraint_ICLR/EvoPrompt/outputs/cls/subj/alpaca/all/de/bd10_top10_para_topk_init/v1/turbo/seed5/dev_result.txt'\n",
    "\n"
   ]
  },
  {
   "cell_type": "code",
   "execution_count": 41,
   "metadata": {},
   "outputs": [],
   "source": [
    "template = \"Below is an instruction that describes a task, paired with an input that provides further context. Write a response that appropriately completes the request.\\n\\n### Instruction:\\n{prompt}\""
   ]
  },
  {
   "cell_type": "code",
   "execution_count": 42,
   "metadata": {},
   "outputs": [],
   "source": [
    "f = open(evo_pth, 'r')\n",
    "f2 = open('evo_prompts.json', 'a')\n",
    "prompts = {}\n",
    "prompts_scores = []\n",
    "count = 0\n",
    "for line in f.readlines():\n",
    "    try:\n",
    "        _, prompt, score = line.split('\\t')\n",
    "        # prompts[f'sst-5_{count}'] = prompt\n",
    "        prompts_scores.append((template.format(prompt=prompt), score))\n",
    "    except:\n",
    "        continue\n",
    "\n",
    "prompts_scores.sort(key=lambda x: x[1], reverse=True)\n",
    "\n",
    "for i, (prompt, score) in enumerate(prompts_scores):\n",
    "    if i<5:\n",
    "        prompts[f'subj_{i}'] = prompt\n",
    "\n",
    "json.dump(prompts, f2)\n",
    "f2.close()\n",
    "    "
   ]
  },
  {
   "cell_type": "code",
   "execution_count": 43,
   "metadata": {},
   "outputs": [
    {
     "data": {
      "text/plain": [
       "[('Below is an instruction that describes a task, paired with an input that provides further context. Write a response that appropriately completes the request.\\n\\n### Instruction:\\nCreate instances that highlight bias in opinions and reviews by showing individual perspectives or facts, generating subjective or objective input-output pairs for subjectivity assessment.',\n",
       "  '0.715\\n'),\n",
       " ('Below is an instruction that describes a task, paired with an input that provides further context. Write a response that appropriately completes the request.\\n\\n### Instruction:\\nGenerate input-output pairs that highlight the factual or opinion-based nature of each sentence, showcasing the subjective viewpoints in reviews for evaluation of subjectivity.',\n",
       "  '0.685\\n'),\n",
       " ('Below is an instruction that describes a task, paired with an input that provides further context. Write a response that appropriately completes the request.\\n\\n### Instruction:\\nDevelop examples that showcase the bias in opinions and reviews by illustrating individual viewpoints or verifiable facts, creating biased or unbiased input-output pairs to evaluate subjectivity.',\n",
       "  '0.685\\n'),\n",
       " ('Below is an instruction that describes a task, paired with an input that provides further context. Write a response that appropriately completes the request.\\n\\n### Instruction:\\nProduce examples that showcase the biased nature of opinions and reviews through input-output pairs for assessing subjectivity.',\n",
       "  '0.68\\n'),\n",
       " ('Below is an instruction that describes a task, paired with an input that provides further context. Write a response that appropriately completes the request.\\n\\n### Instruction:\\nDevelop input-output pairs that highlight personal opinions or factual content, distinguishing between subjective and objective statements to assess subjectivity in opinions and reviews.',\n",
       "  '0.66\\n'),\n",
       " ('Below is an instruction that describes a task, paired with an input that provides further context. Write a response that appropriately completes the request.\\n\\n### Instruction:\\nIdentify whether each statement is subjective or objective, showcasing personal viewpoints or facts, and creating input-output pairs to demonstrate the subjectivity of reviews and opinions.',\n",
       "  '0.65\\n'),\n",
       " ('Below is an instruction that describes a task, paired with an input that provides further context. Write a response that appropriately completes the request.\\n\\n### Instruction:\\nClassify each statement as either reflecting personal viewpoints or factual content by creating input-output pairs that illustrate the subjectivity in opinions and reviews.',\n",
       "  '0.65\\n'),\n",
       " ('Below is an instruction that describes a task, paired with an input that provides further context. Write a response that appropriately completes the request.\\n\\n### Instruction:\\nCreate instances that highlight personal bias in opinions and reviews by showcasing individual perspectives through input-output pairs for assessing subjectivity.',\n",
       "  '0.62\\n'),\n",
       " ('Below is an instruction that describes a task, paired with an input that provides further context. Write a response that appropriately completes the request.\\n\\n### Instruction:\\nProduce examples that show whether a statement expresses an objective observation or a subjective opinion.',\n",
       "  '0.615\\n'),\n",
       " ('Below is an instruction that describes a task, paired with an input that provides further context. Write a response that appropriately completes the request.\\n\\n### Instruction:\\nClassify each statement as either subjective or objective by creating input-output pairs that demonstrate the subjectivity of opinions and reviews.',\n",
       "  '0.605\\n')]"
      ]
     },
     "execution_count": 43,
     "metadata": {},
     "output_type": "execute_result"
    }
   ],
   "source": [
    "prompts_scores"
   ]
  },
  {
   "cell_type": "code",
   "execution_count": 44,
   "metadata": {},
   "outputs": [
    {
     "data": {
      "text/plain": [
       "{'subj_0': 'Below is an instruction that describes a task, paired with an input that provides further context. Write a response that appropriately completes the request.\\n\\n### Instruction:\\nCreate instances that highlight bias in opinions and reviews by showing individual perspectives or facts, generating subjective or objective input-output pairs for subjectivity assessment.',\n",
       " 'subj_1': 'Below is an instruction that describes a task, paired with an input that provides further context. Write a response that appropriately completes the request.\\n\\n### Instruction:\\nGenerate input-output pairs that highlight the factual or opinion-based nature of each sentence, showcasing the subjective viewpoints in reviews for evaluation of subjectivity.',\n",
       " 'subj_2': 'Below is an instruction that describes a task, paired with an input that provides further context. Write a response that appropriately completes the request.\\n\\n### Instruction:\\nDevelop examples that showcase the bias in opinions and reviews by illustrating individual viewpoints or verifiable facts, creating biased or unbiased input-output pairs to evaluate subjectivity.',\n",
       " 'subj_3': 'Below is an instruction that describes a task, paired with an input that provides further context. Write a response that appropriately completes the request.\\n\\n### Instruction:\\nProduce examples that showcase the biased nature of opinions and reviews through input-output pairs for assessing subjectivity.',\n",
       " 'subj_4': 'Below is an instruction that describes a task, paired with an input that provides further context. Write a response that appropriately completes the request.\\n\\n### Instruction:\\nDevelop input-output pairs that highlight personal opinions or factual content, distinguishing between subjective and objective statements to assess subjectivity in opinions and reviews.'}"
      ]
     },
     "execution_count": 44,
     "metadata": {},
     "output_type": "execute_result"
    }
   ],
   "source": [
    "prompts"
   ]
  },
  {
   "cell_type": "code",
   "execution_count": null,
   "metadata": {},
   "outputs": [],
   "source": []
  }
 ],
 "metadata": {
  "kernelspec": {
   "display_name": "c-prompting",
   "language": "python",
   "name": "python3"
  },
  "language_info": {
   "codemirror_mode": {
    "name": "ipython",
    "version": 3
   },
   "file_extension": ".py",
   "mimetype": "text/x-python",
   "name": "python",
   "nbconvert_exporter": "python",
   "pygments_lexer": "ipython3",
   "version": "3.11.5"
  }
 },
 "nbformat": 4,
 "nbformat_minor": 2
}
