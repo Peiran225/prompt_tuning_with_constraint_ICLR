{
 "cells": [
  {
   "cell_type": "code",
   "execution_count": 1,
   "metadata": {},
   "outputs": [],
   "source": [
    "import os\n",
    "import json"
   ]
  },
  {
   "cell_type": "code",
   "execution_count": 2,
   "metadata": {},
   "outputs": [],
   "source": [
    "evo_pth = '/root/projects/prompt_tuning_with_constraint_ICLR/EvoPrompt/outputs/cls/sst-5/alpaca/all/de/bd10_top10_para_topk_init/v1/turbo/seed5/step9_pop.txt'\n"
   ]
  },
  {
   "cell_type": "code",
   "execution_count": 17,
   "metadata": {},
   "outputs": [
    {
     "ename": "TypeError",
     "evalue": "dumps() takes 1 positional argument but 2 were given",
     "output_type": "error",
     "traceback": [
      "\u001b[0;31m---------------------------------------------------------------------------\u001b[0m",
      "\u001b[0;31mTypeError\u001b[0m                                 Traceback (most recent call last)",
      "Cell \u001b[0;32mIn[17], line 20\u001b[0m\n\u001b[1;32m     17\u001b[0m     \u001b[38;5;28;01mif\u001b[39;00m i\u001b[38;5;241m<\u001b[39m\u001b[38;5;241m5\u001b[39m:\n\u001b[1;32m     18\u001b[0m         prompts[\u001b[38;5;124mf\u001b[39m\u001b[38;5;124m'\u001b[39m\u001b[38;5;124msst-5_\u001b[39m\u001b[38;5;132;01m{\u001b[39;00mi\u001b[38;5;132;01m}\u001b[39;00m\u001b[38;5;124m'\u001b[39m] \u001b[38;5;241m=\u001b[39m prompt\n\u001b[0;32m---> 20\u001b[0m \u001b[43mjson\u001b[49m\u001b[38;5;241;43m.\u001b[39;49m\u001b[43mdumps\u001b[49m\u001b[43m(\u001b[49m\u001b[43mprompts\u001b[49m\u001b[43m,\u001b[49m\u001b[43m \u001b[49m\u001b[43mf2\u001b[49m\u001b[43m)\u001b[49m\n",
      "\u001b[0;31mTypeError\u001b[0m: dumps() takes 1 positional argument but 2 were given"
     ]
    }
   ],
   "source": [
    "f = open(evo_pth, 'r')\n",
    "f2 = open('evo_prompts.json', 'wb')\n",
    "prompts = {}\n",
    "prompts_scores = []\n",
    "count = 0\n",
    "for line in f.readlines():\n",
    "    try:\n",
    "        _, prompt, score = line.split('\\t')\n",
    "        # prompts[f'sst-5_{count}'] = prompt\n",
    "        prompts_scores.append((prompt, score))\n",
    "    except:\n",
    "        continue\n",
    "\n",
    "prompts_scores.sort(key=lambda x: x[1], reverse=True)\n",
    "\n",
    "for i, (prompt, score) in enumerate(prompts_scores):\n",
    "    if i<5:\n",
    "        prompts[f'sst-5_{i}'] = prompt\n",
    "\n",
    "json.dumps(prompts, f2)\n",
    "    "
   ]
  },
  {
   "cell_type": "code",
   "execution_count": 15,
   "metadata": {},
   "outputs": [
    {
     "data": {
      "text/plain": [
       "[('Share your thoughts on a film or book based on its summary. Your friend rated it as \"okay,\" \"great,\" \"bad,\" or \"terrible\" according to the overview.',\n",
       "  '0.47\\n'),\n",
       " ('Share your thoughts on a film or book based on its summary. Your friend rated it as \"okay,\" \"great,\" \"bad,\" or \"terrible\" according to the overview.',\n",
       "  '0.47\\n'),\n",
       " ('Assess a film or a novel based on its synopsis. Your friend assigned a rating (okay, great, bad, and terrible) based on the brief overview provided.',\n",
       "  '0.465\\n'),\n",
       " ('Share your thoughts on a movie or book based on its summary. Your friend classified it as \"okay,\" \"great,\" \"bad,\" or \"terrible\" based on the overview.',\n",
       "  '0.465\\n'),\n",
       " ('Share your thoughts on a film or book based on its summary. Your buddy rated it as \"okay,\" \"great,\" \"bad,\" or \"terrible\" according to the summary.',\n",
       "  '0.465\\n'),\n",
       " ('Give your opinion on a movie or book based on its summary. Your friend rated it as \"okay,\" \"great,\" \"bad,\" or \"terrible\" according to the overview.',\n",
       "  '0.46\\n'),\n",
       " ('Share your opinions on a recent film or novel based on its synopsis. Your friend rated it as \"okay,\" \"great,\" \"bad,\" or \"terrible\" according to the overview.',\n",
       "  '0.46\\n'),\n",
       " ('Evaluate a movie or book based on its summary. Your buddy graded it as \"okay,\" \"great,\" \"bad,\" or \"terrible\" according to the concise summary.',\n",
       "  '0.46\\n'),\n",
       " ('Assess a movie or book by its description. Your friend assigned a rating (okay, great, bad, terrible) based on the description.',\n",
       "  '0.45\\n'),\n",
       " ('Provide a brief review of the film you recently watched based on its synopsis. Your friend categorized it as terrible, bad, okay, good, or great.',\n",
       "  '0.445\\n')]"
      ]
     },
     "execution_count": 15,
     "metadata": {},
     "output_type": "execute_result"
    }
   ],
   "source": [
    "prompts_scores"
   ]
  },
  {
   "cell_type": "code",
   "execution_count": 18,
   "metadata": {},
   "outputs": [
    {
     "data": {
      "text/plain": [
       "{'sst-5_0': 'Share your thoughts on a film or book based on its summary. Your friend rated it as \"okay,\" \"great,\" \"bad,\" or \"terrible\" according to the overview.',\n",
       " 'sst-5_1': 'Share your thoughts on a film or book based on its summary. Your friend rated it as \"okay,\" \"great,\" \"bad,\" or \"terrible\" according to the overview.',\n",
       " 'sst-5_2': 'Assess a film or a novel based on its synopsis. Your friend assigned a rating (okay, great, bad, and terrible) based on the brief overview provided.',\n",
       " 'sst-5_3': 'Share your thoughts on a movie or book based on its summary. Your friend classified it as \"okay,\" \"great,\" \"bad,\" or \"terrible\" based on the overview.',\n",
       " 'sst-5_4': 'Share your thoughts on a film or book based on its summary. Your buddy rated it as \"okay,\" \"great,\" \"bad,\" or \"terrible\" according to the summary.'}"
      ]
     },
     "execution_count": 18,
     "metadata": {},
     "output_type": "execute_result"
    }
   ],
   "source": [
    "prompts"
   ]
  },
  {
   "cell_type": "code",
   "execution_count": null,
   "metadata": {},
   "outputs": [],
   "source": []
  }
 ],
 "metadata": {
  "kernelspec": {
   "display_name": "c-prompting",
   "language": "python",
   "name": "python3"
  },
  "language_info": {
   "codemirror_mode": {
    "name": "ipython",
    "version": 3
   },
   "file_extension": ".py",
   "mimetype": "text/x-python",
   "name": "python",
   "nbconvert_exporter": "python",
   "pygments_lexer": "ipython3",
   "version": "3.11.5"
  }
 },
 "nbformat": 4,
 "nbformat_minor": 2
}
