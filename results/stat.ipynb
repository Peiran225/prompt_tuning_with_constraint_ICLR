{
 "cells": [
  {
   "cell_type": "code",
   "execution_count": 25,
   "metadata": {},
   "outputs": [],
   "source": [
    "import numpy as np\n",
    "import pandas as pd\n",
    "import os\n",
    "from tqdm import tqdm"
   ]
  },
  {
   "cell_type": "code",
   "execution_count": 26,
   "metadata": {},
   "outputs": [],
   "source": [
    "result_path = '/root/projects/prompt_tuning_with_constraint_ICLR/results'"
   ]
  },
  {
   "cell_type": "code",
   "execution_count": 27,
   "metadata": {},
   "outputs": [
    {
     "data": {
      "text/plain": [
       "['bert-base-uncased',\n",
       " 'roberta-large',\n",
       " 'stat.ipynb',\n",
       " 'robertabase.tar',\n",
       " 'FacebookAI',\n",
       " 'roberta-base']"
      ]
     },
     "execution_count": 27,
     "metadata": {},
     "output_type": "execute_result"
    }
   ],
   "source": [
    "os.listdir(result_path)"
   ]
  },
  {
   "cell_type": "code",
   "execution_count": 4,
   "metadata": {},
   "outputs": [
    {
     "data": {
      "text/html": [
       "<div>\n",
       "<style scoped>\n",
       "    .dataframe tbody tr th:only-of-type {\n",
       "        vertical-align: middle;\n",
       "    }\n",
       "\n",
       "    .dataframe tbody tr th {\n",
       "        vertical-align: top;\n",
       "    }\n",
       "\n",
       "    .dataframe thead th {\n",
       "        text-align: right;\n",
       "    }\n",
       "</style>\n",
       "<table border=\"1\" class=\"dataframe\">\n",
       "  <thead>\n",
       "    <tr style=\"text-align: right;\">\n",
       "      <th></th>\n",
       "      <th>epoch</th>\n",
       "      <th>eval_loss</th>\n",
       "      <th>eval_accuracy</th>\n",
       "      <th>layer</th>\n",
       "      <th>prompt</th>\n",
       "    </tr>\n",
       "  </thead>\n",
       "  <tbody>\n",
       "    <tr>\n",
       "      <th>0</th>\n",
       "      <td>1.0</td>\n",
       "      <td>0.295038</td>\n",
       "      <td>0.878440</td>\n",
       "      <td>-2</td>\n",
       "      <td>SST-2_0</td>\n",
       "    </tr>\n",
       "    <tr>\n",
       "      <th>1</th>\n",
       "      <td>1.0</td>\n",
       "      <td>0.296718</td>\n",
       "      <td>0.871560</td>\n",
       "      <td>-1</td>\n",
       "      <td>SST-2_0</td>\n",
       "    </tr>\n",
       "    <tr>\n",
       "      <th>2</th>\n",
       "      <td>1.0</td>\n",
       "      <td>0.297138</td>\n",
       "      <td>0.877294</td>\n",
       "      <td>0</td>\n",
       "      <td>SST-2_0</td>\n",
       "    </tr>\n",
       "    <tr>\n",
       "      <th>3</th>\n",
       "      <td>1.0</td>\n",
       "      <td>0.299428</td>\n",
       "      <td>0.869266</td>\n",
       "      <td>1</td>\n",
       "      <td>SST-2_0</td>\n",
       "    </tr>\n",
       "    <tr>\n",
       "      <th>4</th>\n",
       "      <td>1.0</td>\n",
       "      <td>0.303188</td>\n",
       "      <td>0.866972</td>\n",
       "      <td>2</td>\n",
       "      <td>SST-2_0</td>\n",
       "    </tr>\n",
       "  </tbody>\n",
       "</table>\n",
       "</div>"
      ],
      "text/plain": [
       "   epoch  eval_loss  eval_accuracy  layer   prompt\n",
       "0    1.0   0.295038       0.878440     -2  SST-2_0\n",
       "1    1.0   0.296718       0.871560     -1  SST-2_0\n",
       "2    1.0   0.297138       0.877294      0  SST-2_0\n",
       "3    1.0   0.299428       0.869266      1  SST-2_0\n",
       "4    1.0   0.303188       0.866972      2  SST-2_0"
      ]
     },
     "execution_count": 4,
     "metadata": {},
     "output_type": "execute_result"
    }
   ],
   "source": [
    "df = pd.read_csv(f'/root/projects/prompt_tuning_with_constraint_ICLR/results/bert-base-uncased/SST-2_0SST-2-gamma-5e-07-lr-0.001-lr_LM-0.001-epoch-1-num_of_init_text-1-seed-50similarityNone-layer--3.csv')\n",
    "df.head()"
   ]
  },
  {
   "cell_type": "code",
   "execution_count": 6,
   "metadata": {},
   "outputs": [
    {
     "data": {
      "text/plain": [
       "-2"
      ]
     },
     "execution_count": 6,
     "metadata": {},
     "output_type": "execute_result"
    }
   ],
   "source": [
    "df['layer'][0]"
   ]
  },
  {
   "cell_type": "code",
   "execution_count": 32,
   "metadata": {},
   "outputs": [],
   "source": [
    "def read_csv(file_name):\n",
    "    df = pd.read_csv(file_name)\n",
    "    return df, len(df)\n",
    "    \n",
    "def read_files(model_name, task_name):\n",
    "    file_names = []\n",
    "    all_files = os.listdir(f'{result_path}/{model_name}')\n",
    "    layer_num = 0\n",
    "    file_count = 0\n",
    "    all_layer_dict = {}\n",
    "\n",
    "    for file in all_files:\n",
    "        filename = f'{result_path}/{model_name}/{file}'\n",
    "        if task_name not in file:\n",
    "            continue\n",
    "        df, layer_num = read_csv(filename)\n",
    "        file_count += 1\n",
    "        for i in range(0, layer_num):\n",
    "            \n",
    "            delta = df['eval_accuracy'][i] - 0#- df['eval_accuracy'][0]\n",
    "            if not all_layer_dict.get(df['layer'][i]):\n",
    "                all_layer_dict[df['layer'][i]] = delta\n",
    "            else:\n",
    "                all_layer_dict[df['layer'][i]] += delta\n",
    "    \n",
    "    for k, v in all_layer_dict.items():\n",
    "        all_layer_dict[k] = v/file_count\n",
    "\n",
    "    return all_layer_dict, file_count\n"
   ]
  },
  {
   "cell_type": "code",
   "execution_count": 33,
   "metadata": {},
   "outputs": [
    {
     "data": {
      "text/plain": [
       "({-2: 0.8658256880733944,\n",
       "  -1: 0.8599006116207951,\n",
       "  0: 0.7236238532110092,\n",
       "  1: 0.7219036697247706,\n",
       "  2: 0.724006116207951,\n",
       "  3: 0.7232415902140672,\n",
       "  4: 0.7217125382262997,\n",
       "  5: 0.7232415902140672,\n",
       "  6: 0.7238149847094801,\n",
       "  7: 0.7236238532110092,\n",
       "  8: 0.7220948012232417,\n",
       "  9: 0.7226681957186546,\n",
       "  10: 0.7217125382262997,\n",
       "  11: 0.7217125382262997},\n",
       " 6)"
      ]
     },
     "execution_count": 33,
     "metadata": {},
     "output_type": "execute_result"
    }
   ],
   "source": [
    "read_files('bert-base-uncased', 'SST-2')"
   ]
  },
  {
   "cell_type": "code",
   "execution_count": 35,
   "metadata": {},
   "outputs": [
    {
     "data": {
      "text/plain": [
       "({-2: 0.3364214350590372,\n",
       "  -1: 0.38801089918256126,\n",
       "  0: 0.3852861035422343,\n",
       "  1: 0.3883742052679382,\n",
       "  2: 0.38455949137148043,\n",
       "  3: 0.38510445049954584,\n",
       "  4: 0.38764759309718433,\n",
       "  5: 0.37874659400544963,\n",
       "  6: 0.38383287920072656,\n",
       "  7: 0.39037238873751134,\n",
       "  8: 0.3840145322434151,\n",
       "  9: 0.3865576748410536,\n",
       "  10: 0.3847411444141689,\n",
       "  11: 0.3912806539509536},\n",
       " 5)"
      ]
     },
     "execution_count": 35,
     "metadata": {},
     "output_type": "execute_result"
    }
   ],
   "source": [
    "read_files('bert-base-uncased', 'sst-5')"
   ]
  },
  {
   "cell_type": "code",
   "execution_count": 37,
   "metadata": {},
   "outputs": [
    {
     "data": {
      "text/plain": [
       "({-2: 0.9273999999999999,\n",
       "  -1: 0.9386000000000001,\n",
       "  0: 0.9349999999999999,\n",
       "  1: 0.9342,\n",
       "  2: 0.9347999999999999,\n",
       "  3: 0.9328,\n",
       "  4: 0.9327,\n",
       "  5: 0.9338000000000001,\n",
       "  6: 0.9336,\n",
       "  7: 0.9333,\n",
       "  8: 0.9333000000000002,\n",
       "  9: 0.9334,\n",
       "  10: 0.9339000000000001,\n",
       "  11: 0.9345000000000001},\n",
       " 5)"
      ]
     },
     "execution_count": 37,
     "metadata": {},
     "output_type": "execute_result"
    }
   ],
   "source": [
    "read_files('bert-base-uncased', 'subj')"
   ]
  },
  {
   "cell_type": "code",
   "execution_count": 24,
   "metadata": {},
   "outputs": [
    {
     "data": {
      "text/plain": [
       "({-1: 0.20400000000000001,\n",
       "  0: 0.04999999999999999,\n",
       "  1: 0.04999999999999999,\n",
       "  2: 0.04999999999999999,\n",
       "  3: 0.04999999999999999,\n",
       "  4: 0.04999999999999999,\n",
       "  5: 0.04999999999999999,\n",
       "  6: 0.04999999999999999,\n",
       "  7: 0.04999999999999999,\n",
       "  8: 0.04999999999999999,\n",
       "  9: 0.04999999999999999,\n",
       "  10: 0.04999999999999999,\n",
       "  11: 0.04999999999999999},\n",
       " 5)"
      ]
     },
     "execution_count": 24,
     "metadata": {},
     "output_type": "execute_result"
    }
   ],
   "source": [
    "read_files('bert-base-uncased', 'trec')"
   ]
  },
  {
   "cell_type": "code",
   "execution_count": 38,
   "metadata": {},
   "outputs": [
    {
     "data": {
      "text/plain": [
       "({-2: 0.9025229357798166,\n",
       "  -1: 0.9013761467889908,\n",
       "  0: 0.9051987767584097,\n",
       "  1: 0.9032874617737002,\n",
       "  2: 0.9044342507645259,\n",
       "  3: 0.9021406727828746,\n",
       "  4: 0.9021406727828745,\n",
       "  5: 0.8990825688073395,\n",
       "  6: 0.9044342507645259,\n",
       "  7: 0.9025229357798165,\n",
       "  8: 0.8994648318042814,\n",
       "  9: 0.8998470948012232,\n",
       "  10: 0.8971712538226301,\n",
       "  11: 0.8990825688073394},\n",
       " 3)"
      ]
     },
     "execution_count": 38,
     "metadata": {},
     "output_type": "execute_result"
    }
   ],
   "source": [
    "read_files('roberta-base', 'SST-2')"
   ]
  },
  {
   "cell_type": "code",
   "execution_count": 39,
   "metadata": {},
   "outputs": [
    {
     "data": {
      "text/plain": [
       "({-2: 0.30093854072055704,\n",
       "  -1: 0.3151680290644868,\n",
       "  0: 0.31819557977596125,\n",
       "  1: 0.3415077202543142,\n",
       "  2: 0.33424159854677565,\n",
       "  3: 0.332425068119891,\n",
       "  4: 0.31940660006055105,\n",
       "  5: 0.3184983348471087,\n",
       "  6: 0.32485619134120497,\n",
       "  7: 0.32122313048743567,\n",
       "  8: 0.41568271268543744,\n",
       "  9: 0.4211323039660914,\n",
       "  10: 0.41114138661822586,\n",
       "  11: 0.42960944595821976},\n",
       " 3)"
      ]
     },
     "execution_count": 39,
     "metadata": {},
     "output_type": "execute_result"
    }
   ],
   "source": [
    "read_files('roberta-base', 'sst-5')"
   ]
  },
  {
   "cell_type": "code",
   "execution_count": 40,
   "metadata": {},
   "outputs": [
    {
     "data": {
      "text/plain": [
       "({-2: 0.9188000000000001,\n",
       "  -1: 0.9212,\n",
       "  0: 0.9177,\n",
       "  1: 0.9185000000000001,\n",
       "  2: 0.9184999999999999,\n",
       "  3: 0.9183,\n",
       "  4: 0.9182,\n",
       "  5: 0.9181000000000001,\n",
       "  6: 0.9185000000000001,\n",
       "  7: 0.9187,\n",
       "  8: 0.9196,\n",
       "  9: 0.9170999999999999,\n",
       "  10: 0.9187,\n",
       "  11: 0.9169},\n",
       " 5)"
      ]
     },
     "execution_count": 40,
     "metadata": {},
     "output_type": "execute_result"
    }
   ],
   "source": [
    "read_files('roberta-base', 'subj')"
   ]
  },
  {
   "cell_type": "code",
   "execution_count": 41,
   "metadata": {},
   "outputs": [
    {
     "data": {
      "text/plain": [
       "({-2: 0.45599999999999996,\n",
       "  -1: 0.34440000000000004,\n",
       "  0: 0.44480000000000003,\n",
       "  1: 0.43079999999999996,\n",
       "  2: 0.3936,\n",
       "  3: 0.442,\n",
       "  4: 0.4532,\n",
       "  5: 0.4436,\n",
       "  6: 0.40199999999999997,\n",
       "  7: 0.3708,\n",
       "  8: 0.45280000000000004,\n",
       "  9: 0.41479999999999995,\n",
       "  10: 0.4076000000000001,\n",
       "  11: 0.40040000000000003},\n",
       " 5)"
      ]
     },
     "execution_count": 41,
     "metadata": {},
     "output_type": "execute_result"
    }
   ],
   "source": [
    "read_files('roberta-base', 'trec')"
   ]
  },
  {
   "cell_type": "code",
   "execution_count": null,
   "metadata": {},
   "outputs": [],
   "source": []
  }
 ],
 "metadata": {
  "kernelspec": {
   "display_name": "c-prompting",
   "language": "python",
   "name": "python3"
  },
  "language_info": {
   "codemirror_mode": {
    "name": "ipython",
    "version": 3
   },
   "file_extension": ".py",
   "mimetype": "text/x-python",
   "name": "python",
   "nbconvert_exporter": "python",
   "pygments_lexer": "ipython3",
   "version": "3.11.5"
  }
 },
 "nbformat": 4,
 "nbformat_minor": 2
}
