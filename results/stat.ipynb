{
 "cells": [
  {
   "cell_type": "code",
   "execution_count": 1,
   "metadata": {},
   "outputs": [],
   "source": [
    "import numpy as np\n",
    "import pandas as pd\n",
    "import os\n",
    "from tqdm import tqdm"
   ]
  },
  {
   "cell_type": "code",
   "execution_count": 2,
   "metadata": {},
   "outputs": [],
   "source": [
    "result_path = '/root/projects/prompt_tuning_with_constraint_ICLR/results'"
   ]
  },
  {
   "cell_type": "code",
   "execution_count": 3,
   "metadata": {},
   "outputs": [
    {
     "data": {
      "text/plain": [
       "['bert-base-uncased', 'roberta-large', 'stat.ipynb']"
      ]
     },
     "execution_count": 3,
     "metadata": {},
     "output_type": "execute_result"
    }
   ],
   "source": [
    "os.listdir(result_path)"
   ]
  },
  {
   "cell_type": "code",
   "execution_count": 4,
   "metadata": {},
   "outputs": [
    {
     "data": {
      "text/html": [
       "<div>\n",
       "<style scoped>\n",
       "    .dataframe tbody tr th:only-of-type {\n",
       "        vertical-align: middle;\n",
       "    }\n",
       "\n",
       "    .dataframe tbody tr th {\n",
       "        vertical-align: top;\n",
       "    }\n",
       "\n",
       "    .dataframe thead th {\n",
       "        text-align: right;\n",
       "    }\n",
       "</style>\n",
       "<table border=\"1\" class=\"dataframe\">\n",
       "  <thead>\n",
       "    <tr style=\"text-align: right;\">\n",
       "      <th></th>\n",
       "      <th>epoch</th>\n",
       "      <th>eval_loss</th>\n",
       "      <th>eval_accuracy</th>\n",
       "      <th>layer</th>\n",
       "      <th>prompt</th>\n",
       "    </tr>\n",
       "  </thead>\n",
       "  <tbody>\n",
       "    <tr>\n",
       "      <th>0</th>\n",
       "      <td>1.0</td>\n",
       "      <td>0.295038</td>\n",
       "      <td>0.878440</td>\n",
       "      <td>-2</td>\n",
       "      <td>SST-2_0</td>\n",
       "    </tr>\n",
       "    <tr>\n",
       "      <th>1</th>\n",
       "      <td>1.0</td>\n",
       "      <td>0.296718</td>\n",
       "      <td>0.871560</td>\n",
       "      <td>-1</td>\n",
       "      <td>SST-2_0</td>\n",
       "    </tr>\n",
       "    <tr>\n",
       "      <th>2</th>\n",
       "      <td>1.0</td>\n",
       "      <td>0.297138</td>\n",
       "      <td>0.877294</td>\n",
       "      <td>0</td>\n",
       "      <td>SST-2_0</td>\n",
       "    </tr>\n",
       "    <tr>\n",
       "      <th>3</th>\n",
       "      <td>1.0</td>\n",
       "      <td>0.299428</td>\n",
       "      <td>0.869266</td>\n",
       "      <td>1</td>\n",
       "      <td>SST-2_0</td>\n",
       "    </tr>\n",
       "    <tr>\n",
       "      <th>4</th>\n",
       "      <td>1.0</td>\n",
       "      <td>0.303188</td>\n",
       "      <td>0.866972</td>\n",
       "      <td>2</td>\n",
       "      <td>SST-2_0</td>\n",
       "    </tr>\n",
       "  </tbody>\n",
       "</table>\n",
       "</div>"
      ],
      "text/plain": [
       "   epoch  eval_loss  eval_accuracy  layer   prompt\n",
       "0    1.0   0.295038       0.878440     -2  SST-2_0\n",
       "1    1.0   0.296718       0.871560     -1  SST-2_0\n",
       "2    1.0   0.297138       0.877294      0  SST-2_0\n",
       "3    1.0   0.299428       0.869266      1  SST-2_0\n",
       "4    1.0   0.303188       0.866972      2  SST-2_0"
      ]
     },
     "execution_count": 4,
     "metadata": {},
     "output_type": "execute_result"
    }
   ],
   "source": [
    "df = pd.read_csv(f'/root/projects/prompt_tuning_with_constraint_ICLR/results/bert-base-uncased/SST-2_0SST-2-gamma-5e-07-lr-0.001-lr_LM-0.001-epoch-1-num_of_init_text-1-seed-50similarityNone-layer--3.csv')\n",
    "df.head()"
   ]
  },
  {
   "cell_type": "code",
   "execution_count": 6,
   "metadata": {},
   "outputs": [
    {
     "data": {
      "text/plain": [
       "-2"
      ]
     },
     "execution_count": 6,
     "metadata": {},
     "output_type": "execute_result"
    }
   ],
   "source": [
    "df['layer'][0]"
   ]
  },
  {
   "cell_type": "code",
   "execution_count": 13,
   "metadata": {},
   "outputs": [],
   "source": [
    "def read_csv(file_name):\n",
    "    df = pd.read_csv(file_name)\n",
    "    return df, len(df)\n",
    "    \n",
    "def read_files(model_name, task_name):\n",
    "    file_names = []\n",
    "    all_files = os.listdir(f'{result_path}/{model_name}')\n",
    "    layer_num = 0\n",
    "    file_count = 0\n",
    "    all_layer_dict = {}\n",
    "\n",
    "    for file in all_files:\n",
    "        filename = f'{result_path}/{model_name}/{file}'\n",
    "        if task_name not in file:\n",
    "            continue\n",
    "        df, layer_num = read_csv(filename)\n",
    "        file_count += 1\n",
    "        for i in range(1, layer_num):\n",
    "            \n",
    "            delta = df['eval_accuracy'][i] - df['eval_accuracy'][0]\n",
    "            if not all_layer_dict.get(df['layer'][i]):\n",
    "                all_layer_dict[df['layer'][i]] = delta\n",
    "            else:\n",
    "                all_layer_dict[df['layer'][i]] += delta\n",
    "        \n",
    "    return all_layer_dict, file_count\n",
    "        \n"
   ]
  },
  {
   "cell_type": "code",
   "execution_count": 14,
   "metadata": {},
   "outputs": [
    {
     "data": {
      "text/plain": [
       "({-1: -0.035550458715596256,\n",
       "  0: -0.041284403669724634,\n",
       "  1: -0.05160550458715596,\n",
       "  2: -0.03899082568807333,\n",
       "  3: -0.04357798165137594,\n",
       "  4: -0.0527522935779815,\n",
       "  5: -0.04357798165137605,\n",
       "  6: -0.04013761467889887,\n",
       "  7: -0.041284403669724634,\n",
       "  8: -0.050458715596330195,\n",
       "  9: -0.04701834862385301,\n",
       "  10: -0.05275229357798139,\n",
       "  11: -0.05275229357798139},\n",
       " 6)"
      ]
     },
     "execution_count": 14,
     "metadata": {},
     "output_type": "execute_result"
    }
   ],
   "source": [
    "read_files('bert-base-uncased', 'SST-2')"
   ]
  },
  {
   "cell_type": "code",
   "execution_count": 15,
   "metadata": {},
   "outputs": [
    {
     "data": {
      "text/plain": [
       "({-1: 0.09355131698455943,\n",
       "  0: 0.09900090826521352,\n",
       "  1: 0.09082652134423252,\n",
       "  2: 0.06267029972752058,\n",
       "  3: 0.07447774750227076,\n",
       "  4: 0.08900999091734785,\n",
       "  5: 0.07266121707538603,\n",
       "  6: 0.06721162579473217,\n",
       "  7: 0.09627611262488656,\n",
       "  8: 0.08265213442325164,\n",
       "  9: 0.08446866485013627,\n",
       "  10: 0.06721162579473206,\n",
       "  11: 0.08537693006357855},\n",
       " 3)"
      ]
     },
     "execution_count": 15,
     "metadata": {},
     "output_type": "execute_result"
    }
   ],
   "source": [
    "read_files('bert-base-uncased', 'sst-5')"
   ]
  },
  {
   "cell_type": "code",
   "execution_count": 16,
   "metadata": {},
   "outputs": [
    {
     "data": {
      "text/plain": [
       "({-1: 0.05600000000000016,\n",
       "  0: 0.038000000000000034,\n",
       "  1: 0.03400000000000014,\n",
       "  2: 0.037000000000000144,\n",
       "  3: 0.027000000000000135,\n",
       "  4: 0.02650000000000008,\n",
       "  5: 0.03200000000000003,\n",
       "  6: 0.03100000000000014,\n",
       "  7: 0.02950000000000008,\n",
       "  8: 0.02950000000000008,\n",
       "  9: 0.030000000000000027,\n",
       "  10: 0.032500000000000084,\n",
       "  11: 0.03550000000000009},\n",
       " 5)"
      ]
     },
     "execution_count": 16,
     "metadata": {},
     "output_type": "execute_result"
    }
   ],
   "source": [
    "read_files('bert-base-uncased', 'subj')"
   ]
  },
  {
   "cell_type": "code",
   "execution_count": null,
   "metadata": {},
   "outputs": [],
   "source": []
  }
 ],
 "metadata": {
  "kernelspec": {
   "display_name": "c-prompting",
   "language": "python",
   "name": "python3"
  },
  "language_info": {
   "codemirror_mode": {
    "name": "ipython",
    "version": 3
   },
   "file_extension": ".py",
   "mimetype": "text/x-python",
   "name": "python",
   "nbconvert_exporter": "python",
   "pygments_lexer": "ipython3",
   "version": "3.11.5"
  }
 },
 "nbformat": 4,
 "nbformat_minor": 2
}
